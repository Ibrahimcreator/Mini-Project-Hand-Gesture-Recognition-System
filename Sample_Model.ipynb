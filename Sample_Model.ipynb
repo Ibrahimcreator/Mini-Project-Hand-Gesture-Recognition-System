{
 "cells": [
  {
   "cell_type": "code",
   "execution_count": 1,
   "metadata": {},
   "outputs": [],
   "source": [
    "import tensorflow as tf\n",
    "from tensorflow import keras\n",
    "from tensorflow.keras.preprocessing.image import ImageDataGenerator\n",
    "from sklearn.metrics import confusion_matrix\n",
    "import matplotlib.pyplot as plt\n",
    "import numpy as np"
   ]
  },
  {
   "cell_type": "code",
   "execution_count": null,
   "metadata": {},
   "outputs": [],
   "source": [
    "import os\n",
    "\n",
    "\n",
    "current_dir = os.getcwd()\n",
    "subdirectory = 'data'\n",
    "data_dir = os.path.join(current_dir, subdirectory)\n",
    "\n",
    "image_size = (224, 224)\n",
    "num_classes = 13\n",
    "test_size = 0.2\n",
    "batch_size = 32\n",
    "epochs = 10\n"
   ]
  },
  {
   "cell_type": "code",
   "execution_count": null,
   "metadata": {},
   "outputs": [],
   "source": [
    "# Data augmentation and preprocessing\n",
    "data_gen = ImageDataGenerator(\n",
    "    rescale=1./255,\n",
    "    rotation_range=30,\n",
    "    width_shift_range=0.2,\n",
    "    height_shift_range=0.2,\n",
    "    shear_range=0.2,\n",
    "    zoom_range=0.2,\n",
    "    horizontal_flip=True,\n",
    "    fill_mode='nearest',\n",
    "    validation_split=test_size)"
   ]
  },
  {
   "cell_type": "code",
   "execution_count": null,
   "metadata": {},
   "outputs": [
    {
     "name": "stdout",
     "output_type": "stream",
     "text": [
      "Found 1040 images belonging to 13 classes.\n",
      "Found 260 images belonging to 13 classes.\n"
     ]
    }
   ],
   "source": [
    "# Load and split the data\n",
    "train_data = data_gen.flow_from_directory(\n",
    "    directory=data_dir,\n",
    "    target_size=image_size,\n",
    "    batch_size=batch_size,\n",
    "    class_mode='categorical',\n",
    "    subset='training')\n",
    "\n",
    "test_data = data_gen.flow_from_directory(\n",
    "    directory=data_dir,\n",
    "    target_size=image_size,\n",
    "    batch_size=batch_size,\n",
    "    class_mode='categorical',\n",
    "    subset='validation')"
   ]
  },
  {
   "cell_type": "code",
   "execution_count": null,
   "metadata": {},
   "outputs": [],
   "source": [
    "# Build a simple CNN model\n",
    "model = keras.Sequential([\n",
    "    keras.layers.Conv2D(32, (3, 3), activation='relu', input_shape=(image_size[0], image_size[1], 3)),\n",
    "    keras.layers.MaxPooling2D((2, 2)),\n",
    "    keras.layers.Conv2D(64, (3, 3), activation='relu'),\n",
    "    keras.layers.MaxPooling2D((2, 2)),\n",
    "    keras.layers.Flatten(),\n",
    "    keras.layers.Dense(128, activation='relu'),\n",
    "    keras.layers.Dense(num_classes, activation='softmax')\n",
    "])"
   ]
  },
  {
   "cell_type": "code",
   "execution_count": null,
   "metadata": {},
   "outputs": [],
   "source": [
    "# Compile the model\n",
    "model.compile(optimizer='adam', loss='categorical_crossentropy', metrics=['accuracy'])"
   ]
  },
  {
   "cell_type": "code",
   "execution_count": null,
   "metadata": {},
   "outputs": [
    {
     "name": "stdout",
     "output_type": "stream",
     "text": [
      "Epoch 1/10\n",
      "33/33 [==============================] - 52s 2s/step - loss: 3.4514 - accuracy: 0.0846 - val_loss: 2.5623 - val_accuracy: 0.0769\n",
      "Epoch 2/10\n",
      "33/33 [==============================] - 46s 1s/step - loss: 2.5397 - accuracy: 0.0856 - val_loss: 2.4986 - val_accuracy: 0.0846\n",
      "Epoch 3/10\n",
      "33/33 [==============================] - 45s 1s/step - loss: 2.4287 - accuracy: 0.1615 - val_loss: 2.4041 - val_accuracy: 0.1269\n",
      "Epoch 4/10\n",
      "33/33 [==============================] - 45s 1s/step - loss: 2.2342 - accuracy: 0.2250 - val_loss: 2.3001 - val_accuracy: 0.1692\n",
      "Epoch 5/10\n",
      "33/33 [==============================] - 46s 1s/step - loss: 2.0948 - accuracy: 0.2663 - val_loss: 2.0710 - val_accuracy: 0.2500\n",
      "Epoch 6/10\n",
      "33/33 [==============================] - 45s 1s/step - loss: 1.9662 - accuracy: 0.3125 - val_loss: 1.9737 - val_accuracy: 0.2846\n",
      "Epoch 7/10\n",
      "33/33 [==============================] - 44s 1s/step - loss: 1.8508 - accuracy: 0.3394 - val_loss: 1.8330 - val_accuracy: 0.3577\n",
      "Epoch 8/10\n",
      "33/33 [==============================] - 46s 1s/step - loss: 1.7300 - accuracy: 0.3740 - val_loss: 1.8174 - val_accuracy: 0.3615\n",
      "Epoch 9/10\n",
      "33/33 [==============================] - 50s 2s/step - loss: 1.6718 - accuracy: 0.3971 - val_loss: 1.8749 - val_accuracy: 0.3308\n",
      "Epoch 10/10\n",
      "33/33 [==============================] - 45s 1s/step - loss: 1.6219 - accuracy: 0.4385 - val_loss: 1.6978 - val_accuracy: 0.4308\n"
     ]
    }
   ],
   "source": [
    "# Train the model\n",
    "history = model.fit(train_data, epochs=epochs, validation_data=test_data)\n",
    "\n"
   ]
  },
  {
   "cell_type": "code",
   "execution_count": null,
   "metadata": {},
   "outputs": [
    {
     "name": "stdout",
     "output_type": "stream",
     "text": [
      "9/9 [==============================] - 6s 599ms/step\n"
     ]
    }
   ],
   "source": [
    "# Calculate confusion matrix on the test set\n",
    "true_labels = test_data.classes\n",
    "predicted_labels = np.argmax(model.predict(test_data), axis=1)\n",
    "confusion_mat = confusion_matrix(true_labels, predicted_labels)\n"
   ]
  },
  {
   "cell_type": "code",
   "execution_count": null,
   "metadata": {},
   "outputs": [
    {
     "data": {
      "image/png": "[encoded data removed]",
      "text/plain": [
       "<Figure size 800x600 with 2 Axes>"
      ]
     },
     "metadata": {},
     "output_type": "display_data"
    }
   ],
   "source": [
    "# Visualize the confusion matrix\n",
    "plt.figure(figsize=(8, 6))\n",
    "plt.imshow(confusion_mat, interpolation='nearest', cmap=plt.cm.Blues)\n",
    "plt.title('Confusion Matrix')\n",
    "plt.colorbar()\n",
    "tick_marks = np.arange(num_classes)\n",
    "plt.xticks(tick_marks, range(num_classes))\n",
    "plt.yticks(tick_marks, range(num_classes))\n",
    "plt.xlabel('Predicted')\n",
    "plt.ylabel('True')\n",
    "plt.show()"
   ]
  }
 ],
 "metadata": {
  "kernelspec": {
   "display_name": "Python 3",
   "language": "python",
   "name": "python3"
  },
  "language_info": {
   "codemirror_mode": {
    "name": "ipython",
    "version": 3
   },
   "file_extension": ".py",
   "mimetype": "text/x-python",
   "name": "python",
   "nbconvert_exporter": "python",
   "pygments_lexer": "ipython3",
   "version": "3.11.6"
  }
 },
 "nbformat": 4,
 "nbformat_minor": 2
}
